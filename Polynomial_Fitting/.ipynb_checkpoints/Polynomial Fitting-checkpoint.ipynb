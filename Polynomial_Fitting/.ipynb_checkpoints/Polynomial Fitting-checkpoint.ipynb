{
 "cells": [
  {
   "cell_type": "code",
   "execution_count": 51,
   "metadata": {},
   "outputs": [],
   "source": [
    "import numpy as np\n",
    "import matplotlib.pyplot as plt\n",
    "import tkinter as tk"
   ]
  },
  {
   "cell_type": "code",
   "execution_count": 52,
   "metadata": {},
   "outputs": [],
   "source": [
    "def return_values_xy():\n",
    "    list_x = []\n",
    "    list_y = []\n",
    "    for cord in open('data_points.txt', 'r'):\n",
    "        if ',' in cord:\n",
    "            h = cord.split(',')\n",
    "            list_x.append(float(h[0].strip()))\n",
    "            h[1] = h[1][:h[1].index('\\n')] if '\\n' in h[1] else h[1]\n",
    "            list_y.append(float(h[1].strip()))\n",
    "    return np.array(list_x), np.array(list_y)"
   ]
  },
  {
   "cell_type": "code",
   "execution_count": 53,
   "metadata": {},
   "outputs": [],
   "source": [
    "def trans_to_poly(X, degree):\n",
    "    Xp = np.ones((len(X), degree))\n",
    "    for row in range(len(X)):\n",
    "        for col in range(1, degree):\n",
    "                Xp[row, col] = X[row]**col\n",
    "    return Xp\n",
    "    "
   ]
  },
  {
   "cell_type": "code",
   "execution_count": 54,
   "metadata": {},
   "outputs": [],
   "source": [
    "def X_plot():\n",
    "    fig_limit = 15\n",
    "    X, y = return_values_xy()\n",
    "    plt.figure(figsize=(15, 9))\n",
    "    plt.xlim(-fig_limit, fig_limit)\n",
    "    plt.ylim(-fig_limit, fig_limit)\n",
    "    plt.xticks(np.arange(-fig_limit, fig_limit+1, 1.0))\n",
    "    plt.yticks(np.arange(-fig_limit, fig_limit+1, 1.0))\n",
    "    plt.scatter(X, y, marker='.', s=[300 for i in range(len(X))])\n",
    "    plt.savefig('unfittedplot.png')\n",
    "    return"
   ]
  },
  {
   "cell_type": "code",
   "execution_count": 57,
   "metadata": {},
   "outputs": [],
   "source": [
    "def the_plot():\n",
    "    fig_limit = 15\n",
    "    X, y = return_values_xy()\n",
    "    calculate_thetas = lambda X, y: np.linalg.inv(X).dot(y.reshape(-1, 1))\n",
    "    \n",
    "    X_n = np.linspace(-fig_limit, fig_limit, 1000)\n",
    "    X_poly, X_npoly = trans_to_poly(X, len(X)), trans_to_poly(X_n, len(X))\n",
    "    thetas = calculate_thetas(X_poly, y).reshape(-1)\n",
    "    degree = len(X)\n",
    "    y_n = X_npoly.dot(thetas)\n",
    "    plt.figure(figsize=(15, 9))\n",
    "    plt.xlim(-fig_limit, fig_limit)\n",
    "    plt.ylim(-fig_limit, fig_limit)\n",
    "    plt.xticks(np.arange(-fig_limit, fig_limit+1, 1.0))\n",
    "    plt.yticks(np.arange(-fig_limit, fig_limit+1, 1.0))\n",
    "    plt.plot(X_n, y_n, linewidth=3)\n",
    "    plt.scatter(X, y, marker='.', s=[300 for i in range(len(X))])\n",
    "    plt.savefig('fittedplot.png')\n",
    "    return\n"
   ]
  },
  {
   "cell_type": "code",
   "execution_count": null,
   "metadata": {},
   "outputs": [],
   "source": [
    "from tkinter import *\n",
    "\n",
    "class Window():\n",
    "    def __init__(self):\n",
    "        self.canvas = Canvas(root, width = 3000, height = 1000)\n",
    "        self.img = PhotoImage(file=\"unfittedplot.png\")\n",
    "        self.imgArea = self.canvas.create_image(17, -50, anchor = NW, image = self.img)\n",
    "        self.canvas.pack()\n",
    "        self.but1 = Button(root, text=\"Fit Points\", command=lambda: self.Fit_datapoints())\n",
    "        self.but1.place(x=10, y=500)\n",
    "        self.but2 = Button(root, text=\"Get New Data Points\", command=lambda: self.Get_new_data_points())\n",
    "        self.but2.place(x=10, y=400)\n",
    "\n",
    "\n",
    "    def Fit_datapoints(self):\n",
    "        the_plot()\n",
    "        self.img = PhotoImage(file=\"fittedplot.png\")\n",
    "        self.canvas.itemconfig(self.imgArea, image = self.img)\n",
    "    def Get_new_data_points(self):\n",
    "        X_plot()\n",
    "        self.img = PhotoImage(file=\"unfittedplot.png\")\n",
    "        self.canvas.itemconfig(self.imgArea, image = self.img)\n",
    "\n",
    "\n",
    "\n",
    "root = Tk()\n",
    "root.title('Fit n degree polynomial to bunch of points')\n",
    "root.geometry(\"1000x600\")\n",
    "app = Window()\n",
    "root.configure(bg='white')\n",
    "\n",
    "\n",
    "root.mainloop()"
   ]
  },
  {
   "cell_type": "code",
   "execution_count": null,
   "metadata": {},
   "outputs": [],
   "source": []
  }
 ],
 "metadata": {
  "kernelspec": {
   "display_name": "Python 3",
   "language": "python",
   "name": "python3"
  },
  "language_info": {
   "codemirror_mode": {
    "name": "ipython",
    "version": 3
   },
   "file_extension": ".py",
   "mimetype": "text/x-python",
   "name": "python",
   "nbconvert_exporter": "python",
   "pygments_lexer": "ipython3",
   "version": "3.7.3"
  }
 },
 "nbformat": 4,
 "nbformat_minor": 2
}
